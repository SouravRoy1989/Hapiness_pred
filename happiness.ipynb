{
 "cells": [
  {
   "cell_type": "code",
   "execution_count": 1,
   "metadata": {},
   "outputs": [],
   "source": [
    "import numpy as np\n",
    "import pandas as pd \n",
    "import matplotlib.pyplot as plt\n",
    "import seaborn as sns\n",
    "from textblob import TextBlob\n",
    "%matplotlib inline"
   ]
  },
  {
   "cell_type": "code",
   "execution_count": 2,
   "metadata": {},
   "outputs": [],
   "source": [
    "df=pd.read_csv('train.csv')"
   ]
  },
  {
   "cell_type": "code",
   "execution_count": 7,
   "metadata": {},
   "outputs": [
    {
     "data": {
      "text/html": [
       "<div>\n",
       "<style>\n",
       "    .dataframe thead tr:only-child th {\n",
       "        text-align: right;\n",
       "    }\n",
       "\n",
       "    .dataframe thead th {\n",
       "        text-align: left;\n",
       "    }\n",
       "\n",
       "    .dataframe tbody tr th {\n",
       "        vertical-align: top;\n",
       "    }\n",
       "</style>\n",
       "<table border=\"1\" class=\"dataframe\">\n",
       "  <thead>\n",
       "    <tr style=\"text-align: right;\">\n",
       "      <th></th>\n",
       "      <th>User_ID</th>\n",
       "      <th>Description</th>\n",
       "      <th>Browser_Used</th>\n",
       "      <th>Device_Used</th>\n",
       "      <th>Is_Response</th>\n",
       "    </tr>\n",
       "  </thead>\n",
       "  <tbody>\n",
       "    <tr>\n",
       "      <th>0</th>\n",
       "      <td>id10326</td>\n",
       "      <td>The room was kind of clean but had a VERY stro...</td>\n",
       "      <td>Edge</td>\n",
       "      <td>Mobile</td>\n",
       "      <td>not happy</td>\n",
       "    </tr>\n",
       "    <tr>\n",
       "      <th>1</th>\n",
       "      <td>id10327</td>\n",
       "      <td>I stayed at the Crown Plaza April -- - April -...</td>\n",
       "      <td>Internet Explorer</td>\n",
       "      <td>Mobile</td>\n",
       "      <td>not happy</td>\n",
       "    </tr>\n",
       "    <tr>\n",
       "      <th>2</th>\n",
       "      <td>id10328</td>\n",
       "      <td>I booked this hotel through Hotwire at the low...</td>\n",
       "      <td>Mozilla</td>\n",
       "      <td>Tablet</td>\n",
       "      <td>not happy</td>\n",
       "    </tr>\n",
       "    <tr>\n",
       "      <th>3</th>\n",
       "      <td>id10329</td>\n",
       "      <td>Stayed here with husband and sons on the way t...</td>\n",
       "      <td>InternetExplorer</td>\n",
       "      <td>Desktop</td>\n",
       "      <td>happy</td>\n",
       "    </tr>\n",
       "    <tr>\n",
       "      <th>4</th>\n",
       "      <td>id10330</td>\n",
       "      <td>My girlfriends and I stayed here to celebrate ...</td>\n",
       "      <td>Edge</td>\n",
       "      <td>Tablet</td>\n",
       "      <td>not happy</td>\n",
       "    </tr>\n",
       "  </tbody>\n",
       "</table>\n",
       "</div>"
      ],
      "text/plain": [
       "   User_ID                                        Description  \\\n",
       "0  id10326  The room was kind of clean but had a VERY stro...   \n",
       "1  id10327  I stayed at the Crown Plaza April -- - April -...   \n",
       "2  id10328  I booked this hotel through Hotwire at the low...   \n",
       "3  id10329  Stayed here with husband and sons on the way t...   \n",
       "4  id10330  My girlfriends and I stayed here to celebrate ...   \n",
       "\n",
       "        Browser_Used Device_Used Is_Response  \n",
       "0               Edge      Mobile   not happy  \n",
       "1  Internet Explorer      Mobile   not happy  \n",
       "2            Mozilla      Tablet   not happy  \n",
       "3   InternetExplorer     Desktop       happy  \n",
       "4               Edge      Tablet   not happy  "
      ]
     },
     "execution_count": 7,
     "metadata": {},
     "output_type": "execute_result"
    }
   ],
   "source": [
    "df.head()"
   ]
  },
  {
   "cell_type": "code",
   "execution_count": 4,
   "metadata": {},
   "outputs": [
    {
     "name": "stdout",
     "output_type": "stream",
     "text": [
      "[name: \"/cpu:0\"\n",
      "device_type: \"CPU\"\n",
      "memory_limit: 268435456\n",
      "locality {\n",
      "}\n",
      "incarnation: 5832550880859948843\n",
      "]\n"
     ]
    }
   ],
   "source": [
    "from tensorflow.python.client import device_lib\n",
    "print (device_lib.list_local_devices())"
   ]
  },
  {
   "cell_type": "code",
   "execution_count": 8,
   "metadata": {},
   "outputs": [
    {
     "data": {
      "text/plain": [
       "<matplotlib.text.Text at 0xfbc8b00>"
      ]
     },
     "execution_count": 8,
     "metadata": {},
     "output_type": "execute_result"
    },
    {
     "data": {
      "image/png": "[encoded data removed]",
      "text/plain": [
       "<matplotlib.figure.Figure at 0x12a44ef0>"
      ]
     },
     "metadata": {},
     "output_type": "display_data"
    }
   ],
   "source": [
    "#first feature extracting from the most common variables\n",
    "fig = plt.subplots(figsize=(22,6))\n",
    "sns.set(style=\"darkgrid\")\n",
    "ax = sns.countplot(x=\"Browser_Used\", data=df)\n",
    "plt.title('Browser used')"
   ]
  },
  {
   "cell_type": "code",
   "execution_count": 9,
   "metadata": {},
   "outputs": [],
   "source": [
    "#combining the common names together\n",
    "for i in range (len(df.index)):\n",
    "    if df[\"Browser_Used\"][i]in ['InternetExplorer','Internet Explorer']:\n",
    "        df.loc[i,'Browser_Used']='IE'\n",
    "    if df[\"Browser_Used\"][i]in ['Mozilla','Mozilla Firefox']:\n",
    "        df.loc[i,'Browser_Used']='Firefox'\n",
    "    if df[\"Browser_Used\"][i]in ['Google Chrome']:\n",
    "        df.loc[i,'Browser_Used']='Chrome'        "
   ]
  },
  {
   "cell_type": "code",
   "execution_count": 10,
   "metadata": {},
   "outputs": [
    {
     "data": {
      "text/plain": [
       "Firefox    14787\n",
       "IE          9130\n",
       "Edge        7134\n",
       "Chrome      7129\n",
       "Safari       390\n",
       "Opera        362\n",
       "Name: Browser_Used, dtype: int64"
      ]
     },
     "execution_count": 10,
     "metadata": {},
     "output_type": "execute_result"
    }
   ],
   "source": [
    "df['Browser_Used'].value_counts()"
   ]
  },
  {
   "cell_type": "code",
   "execution_count": 11,
   "metadata": {},
   "outputs": [],
   "source": [
    "dummy=pd.get_dummies(df['Browser_Used'],prefix=\"bu\")"
   ]
  },
  {
   "cell_type": "code",
   "execution_count": 12,
   "metadata": {},
   "outputs": [],
   "source": [
    "df=pd.concat([df,dummy],1)"
   ]
  },
  {
   "cell_type": "code",
   "execution_count": 13,
   "metadata": {},
   "outputs": [
    {
     "data": {
      "text/html": [
       "<div>\n",
       "<style>\n",
       "    .dataframe thead tr:only-child th {\n",
       "        text-align: right;\n",
       "    }\n",
       "\n",
       "    .dataframe thead th {\n",
       "        text-align: left;\n",
       "    }\n",
       "\n",
       "    .dataframe tbody tr th {\n",
       "        vertical-align: top;\n",
       "    }\n",
       "</style>\n",
       "<table border=\"1\" class=\"dataframe\">\n",
       "  <thead>\n",
       "    <tr style=\"text-align: right;\">\n",
       "      <th></th>\n",
       "      <th>User_ID</th>\n",
       "      <th>Description</th>\n",
       "      <th>Browser_Used</th>\n",
       "      <th>Device_Used</th>\n",
       "      <th>Is_Response</th>\n",
       "      <th>bu_Chrome</th>\n",
       "      <th>bu_Edge</th>\n",
       "      <th>bu_Firefox</th>\n",
       "      <th>bu_IE</th>\n",
       "      <th>bu_Opera</th>\n",
       "      <th>bu_Safari</th>\n",
       "    </tr>\n",
       "  </thead>\n",
       "  <tbody>\n",
       "    <tr>\n",
       "      <th>0</th>\n",
       "      <td>id10326</td>\n",
       "      <td>The room was kind of clean but had a VERY stro...</td>\n",
       "      <td>Edge</td>\n",
       "      <td>Mobile</td>\n",
       "      <td>not happy</td>\n",
       "      <td>0</td>\n",
       "      <td>1</td>\n",
       "      <td>0</td>\n",
       "      <td>0</td>\n",
       "      <td>0</td>\n",
       "      <td>0</td>\n",
       "    </tr>\n",
       "    <tr>\n",
       "      <th>1</th>\n",
       "      <td>id10327</td>\n",
       "      <td>I stayed at the Crown Plaza April -- - April -...</td>\n",
       "      <td>IE</td>\n",
       "      <td>Mobile</td>\n",
       "      <td>not happy</td>\n",
       "      <td>0</td>\n",
       "      <td>0</td>\n",
       "      <td>0</td>\n",
       "      <td>1</td>\n",
       "      <td>0</td>\n",
       "      <td>0</td>\n",
       "    </tr>\n",
       "    <tr>\n",
       "      <th>2</th>\n",
       "      <td>id10328</td>\n",
       "      <td>I booked this hotel through Hotwire at the low...</td>\n",
       "      <td>Firefox</td>\n",
       "      <td>Tablet</td>\n",
       "      <td>not happy</td>\n",
       "      <td>0</td>\n",
       "      <td>0</td>\n",
       "      <td>1</td>\n",
       "      <td>0</td>\n",
       "      <td>0</td>\n",
       "      <td>0</td>\n",
       "    </tr>\n",
       "    <tr>\n",
       "      <th>3</th>\n",
       "      <td>id10329</td>\n",
       "      <td>Stayed here with husband and sons on the way t...</td>\n",
       "      <td>IE</td>\n",
       "      <td>Desktop</td>\n",
       "      <td>happy</td>\n",
       "      <td>0</td>\n",
       "      <td>0</td>\n",
       "      <td>0</td>\n",
       "      <td>1</td>\n",
       "      <td>0</td>\n",
       "      <td>0</td>\n",
       "    </tr>\n",
       "    <tr>\n",
       "      <th>4</th>\n",
       "      <td>id10330</td>\n",
       "      <td>My girlfriends and I stayed here to celebrate ...</td>\n",
       "      <td>Edge</td>\n",
       "      <td>Tablet</td>\n",
       "      <td>not happy</td>\n",
       "      <td>0</td>\n",
       "      <td>1</td>\n",
       "      <td>0</td>\n",
       "      <td>0</td>\n",
       "      <td>0</td>\n",
       "      <td>0</td>\n",
       "    </tr>\n",
       "  </tbody>\n",
       "</table>\n",
       "</div>"
      ],
      "text/plain": [
       "   User_ID                                        Description Browser_Used  \\\n",
       "0  id10326  The room was kind of clean but had a VERY stro...         Edge   \n",
       "1  id10327  I stayed at the Crown Plaza April -- - April -...           IE   \n",
       "2  id10328  I booked this hotel through Hotwire at the low...      Firefox   \n",
       "3  id10329  Stayed here with husband and sons on the way t...           IE   \n",
       "4  id10330  My girlfriends and I stayed here to celebrate ...         Edge   \n",
       "\n",
       "  Device_Used Is_Response  bu_Chrome  bu_Edge  bu_Firefox  bu_IE  bu_Opera  \\\n",
       "0      Mobile   not happy          0        1           0      0         0   \n",
       "1      Mobile   not happy          0        0           0      1         0   \n",
       "2      Tablet   not happy          0        0           1      0         0   \n",
       "3     Desktop       happy          0        0           0      1         0   \n",
       "4      Tablet   not happy          0        1           0      0         0   \n",
       "\n",
       "   bu_Safari  \n",
       "0          0  \n",
       "1          0  \n",
       "2          0  \n",
       "3          0  \n",
       "4          0  "
      ]
     },
     "execution_count": 13,
     "metadata": {},
     "output_type": "execute_result"
    }
   ],
   "source": [
    "df.head()"
   ]
  },
  {
   "cell_type": "code",
   "execution_count": 14,
   "metadata": {},
   "outputs": [],
   "source": [
    "df=df.drop(['bu_Opera','bu_Safari','Browser_Used'],1)"
   ]
  },
  {
   "cell_type": "code",
   "execution_count": 15,
   "metadata": {},
   "outputs": [
    {
     "data": {
      "text/plain": [
       "Desktop    15026\n",
       "Mobile     14976\n",
       "Tablet      8930\n",
       "Name: Device_Used, dtype: int64"
      ]
     },
     "execution_count": 15,
     "metadata": {},
     "output_type": "execute_result"
    }
   ],
   "source": [
    "df['Device_Used'].value_counts()"
   ]
  },
  {
   "cell_type": "code",
   "execution_count": 16,
   "metadata": {},
   "outputs": [],
   "source": [
    "df['Desktop']=np.where(df['Device_Used']=='Desktop',1,0)"
   ]
  },
  {
   "cell_type": "code",
   "execution_count": 17,
   "metadata": {},
   "outputs": [],
   "source": [
    "df['Mobile']=np.where(df['Device_Used']=='Mobile',1,0)"
   ]
  },
  {
   "cell_type": "code",
   "execution_count": 18,
   "metadata": {},
   "outputs": [
    {
     "data": {
      "text/html": [
       "<div>\n",
       "<style>\n",
       "    .dataframe thead tr:only-child th {\n",
       "        text-align: right;\n",
       "    }\n",
       "\n",
       "    .dataframe thead th {\n",
       "        text-align: left;\n",
       "    }\n",
       "\n",
       "    .dataframe tbody tr th {\n",
       "        vertical-align: top;\n",
       "    }\n",
       "</style>\n",
       "<table border=\"1\" class=\"dataframe\">\n",
       "  <thead>\n",
       "    <tr style=\"text-align: right;\">\n",
       "      <th></th>\n",
       "      <th>User_ID</th>\n",
       "      <th>Description</th>\n",
       "      <th>Device_Used</th>\n",
       "      <th>Is_Response</th>\n",
       "      <th>bu_Chrome</th>\n",
       "      <th>bu_Edge</th>\n",
       "      <th>bu_Firefox</th>\n",
       "      <th>bu_IE</th>\n",
       "      <th>Desktop</th>\n",
       "      <th>Mobile</th>\n",
       "    </tr>\n",
       "  </thead>\n",
       "  <tbody>\n",
       "    <tr>\n",
       "      <th>0</th>\n",
       "      <td>id10326</td>\n",
       "      <td>The room was kind of clean but had a VERY stro...</td>\n",
       "      <td>Mobile</td>\n",
       "      <td>not happy</td>\n",
       "      <td>0</td>\n",
       "      <td>1</td>\n",
       "      <td>0</td>\n",
       "      <td>0</td>\n",
       "      <td>0</td>\n",
       "      <td>1</td>\n",
       "    </tr>\n",
       "    <tr>\n",
       "      <th>1</th>\n",
       "      <td>id10327</td>\n",
       "      <td>I stayed at the Crown Plaza April -- - April -...</td>\n",
       "      <td>Mobile</td>\n",
       "      <td>not happy</td>\n",
       "      <td>0</td>\n",
       "      <td>0</td>\n",
       "      <td>0</td>\n",
       "      <td>1</td>\n",
       "      <td>0</td>\n",
       "      <td>1</td>\n",
       "    </tr>\n",
       "    <tr>\n",
       "      <th>2</th>\n",
       "      <td>id10328</td>\n",
       "      <td>I booked this hotel through Hotwire at the low...</td>\n",
       "      <td>Tablet</td>\n",
       "      <td>not happy</td>\n",
       "      <td>0</td>\n",
       "      <td>0</td>\n",
       "      <td>1</td>\n",
       "      <td>0</td>\n",
       "      <td>0</td>\n",
       "      <td>0</td>\n",
       "    </tr>\n",
       "    <tr>\n",
       "      <th>3</th>\n",
       "      <td>id10329</td>\n",
       "      <td>Stayed here with husband and sons on the way t...</td>\n",
       "      <td>Desktop</td>\n",
       "      <td>happy</td>\n",
       "      <td>0</td>\n",
       "      <td>0</td>\n",
       "      <td>0</td>\n",
       "      <td>1</td>\n",
       "      <td>1</td>\n",
       "      <td>0</td>\n",
       "    </tr>\n",
       "    <tr>\n",
       "      <th>4</th>\n",
       "      <td>id10330</td>\n",
       "      <td>My girlfriends and I stayed here to celebrate ...</td>\n",
       "      <td>Tablet</td>\n",
       "      <td>not happy</td>\n",
       "      <td>0</td>\n",
       "      <td>1</td>\n",
       "      <td>0</td>\n",
       "      <td>0</td>\n",
       "      <td>0</td>\n",
       "      <td>0</td>\n",
       "    </tr>\n",
       "  </tbody>\n",
       "</table>\n",
       "</div>"
      ],
      "text/plain": [
       "   User_ID                                        Description Device_Used  \\\n",
       "0  id10326  The room was kind of clean but had a VERY stro...      Mobile   \n",
       "1  id10327  I stayed at the Crown Plaza April -- - April -...      Mobile   \n",
       "2  id10328  I booked this hotel through Hotwire at the low...      Tablet   \n",
       "3  id10329  Stayed here with husband and sons on the way t...     Desktop   \n",
       "4  id10330  My girlfriends and I stayed here to celebrate ...      Tablet   \n",
       "\n",
       "  Is_Response  bu_Chrome  bu_Edge  bu_Firefox  bu_IE  Desktop  Mobile  \n",
       "0   not happy          0        1           0      0        0       1  \n",
       "1   not happy          0        0           0      1        0       1  \n",
       "2   not happy          0        0           1      0        0       0  \n",
       "3       happy          0        0           0      1        1       0  \n",
       "4   not happy          0        1           0      0        0       0  "
      ]
     },
     "execution_count": 18,
     "metadata": {},
     "output_type": "execute_result"
    }
   ],
   "source": [
    "df.head()"
   ]
  },
  {
   "cell_type": "code",
   "execution_count": 19,
   "metadata": {},
   "outputs": [
    {
     "data": {
      "text/plain": [
       "happy        26521\n",
       "not happy    12411\n",
       "Name: Is_Response, dtype: int64"
      ]
     },
     "execution_count": 19,
     "metadata": {},
     "output_type": "execute_result"
    }
   ],
   "source": [
    "df['Is_Response'].value_counts()"
   ]
  },
  {
   "cell_type": "code",
   "execution_count": 20,
   "metadata": {},
   "outputs": [],
   "source": [
    "df['Is_Response_hppy']=np.where(df['Is_Response']=='happy',1,0)"
   ]
  },
  {
   "cell_type": "code",
   "execution_count": 21,
   "metadata": {},
   "outputs": [
    {
     "data": {
      "text/html": [
       "<div>\n",
       "<style>\n",
       "    .dataframe thead tr:only-child th {\n",
       "        text-align: right;\n",
       "    }\n",
       "\n",
       "    .dataframe thead th {\n",
       "        text-align: left;\n",
       "    }\n",
       "\n",
       "    .dataframe tbody tr th {\n",
       "        vertical-align: top;\n",
       "    }\n",
       "</style>\n",
       "<table border=\"1\" class=\"dataframe\">\n",
       "  <thead>\n",
       "    <tr style=\"text-align: right;\">\n",
       "      <th></th>\n",
       "      <th>User_ID</th>\n",
       "      <th>Description</th>\n",
       "      <th>Device_Used</th>\n",
       "      <th>Is_Response</th>\n",
       "      <th>bu_Chrome</th>\n",
       "      <th>bu_Edge</th>\n",
       "      <th>bu_Firefox</th>\n",
       "      <th>bu_IE</th>\n",
       "      <th>Desktop</th>\n",
       "      <th>Mobile</th>\n",
       "      <th>Is_Response_hppy</th>\n",
       "    </tr>\n",
       "  </thead>\n",
       "  <tbody>\n",
       "    <tr>\n",
       "      <th>0</th>\n",
       "      <td>id10326</td>\n",
       "      <td>The room was kind of clean but had a VERY stro...</td>\n",
       "      <td>Mobile</td>\n",
       "      <td>not happy</td>\n",
       "      <td>0</td>\n",
       "      <td>1</td>\n",
       "      <td>0</td>\n",
       "      <td>0</td>\n",
       "      <td>0</td>\n",
       "      <td>1</td>\n",
       "      <td>0</td>\n",
       "    </tr>\n",
       "    <tr>\n",
       "      <th>1</th>\n",
       "      <td>id10327</td>\n",
       "      <td>I stayed at the Crown Plaza April -- - April -...</td>\n",
       "      <td>Mobile</td>\n",
       "      <td>not happy</td>\n",
       "      <td>0</td>\n",
       "      <td>0</td>\n",
       "      <td>0</td>\n",
       "      <td>1</td>\n",
       "      <td>0</td>\n",
       "      <td>1</td>\n",
       "      <td>0</td>\n",
       "    </tr>\n",
       "    <tr>\n",
       "      <th>2</th>\n",
       "      <td>id10328</td>\n",
       "      <td>I booked this hotel through Hotwire at the low...</td>\n",
       "      <td>Tablet</td>\n",
       "      <td>not happy</td>\n",
       "      <td>0</td>\n",
       "      <td>0</td>\n",
       "      <td>1</td>\n",
       "      <td>0</td>\n",
       "      <td>0</td>\n",
       "      <td>0</td>\n",
       "      <td>0</td>\n",
       "    </tr>\n",
       "    <tr>\n",
       "      <th>3</th>\n",
       "      <td>id10329</td>\n",
       "      <td>Stayed here with husband and sons on the way t...</td>\n",
       "      <td>Desktop</td>\n",
       "      <td>happy</td>\n",
       "      <td>0</td>\n",
       "      <td>0</td>\n",
       "      <td>0</td>\n",
       "      <td>1</td>\n",
       "      <td>1</td>\n",
       "      <td>0</td>\n",
       "      <td>1</td>\n",
       "    </tr>\n",
       "    <tr>\n",
       "      <th>4</th>\n",
       "      <td>id10330</td>\n",
       "      <td>My girlfriends and I stayed here to celebrate ...</td>\n",
       "      <td>Tablet</td>\n",
       "      <td>not happy</td>\n",
       "      <td>0</td>\n",
       "      <td>1</td>\n",
       "      <td>0</td>\n",
       "      <td>0</td>\n",
       "      <td>0</td>\n",
       "      <td>0</td>\n",
       "      <td>0</td>\n",
       "    </tr>\n",
       "  </tbody>\n",
       "</table>\n",
       "</div>"
      ],
      "text/plain": [
       "   User_ID                                        Description Device_Used  \\\n",
       "0  id10326  The room was kind of clean but had a VERY stro...      Mobile   \n",
       "1  id10327  I stayed at the Crown Plaza April -- - April -...      Mobile   \n",
       "2  id10328  I booked this hotel through Hotwire at the low...      Tablet   \n",
       "3  id10329  Stayed here with husband and sons on the way t...     Desktop   \n",
       "4  id10330  My girlfriends and I stayed here to celebrate ...      Tablet   \n",
       "\n",
       "  Is_Response  bu_Chrome  bu_Edge  bu_Firefox  bu_IE  Desktop  Mobile  \\\n",
       "0   not happy          0        1           0      0        0       1   \n",
       "1   not happy          0        0           0      1        0       1   \n",
       "2   not happy          0        0           1      0        0       0   \n",
       "3       happy          0        0           0      1        1       0   \n",
       "4   not happy          0        1           0      0        0       0   \n",
       "\n",
       "   Is_Response_hppy  \n",
       "0                 0  \n",
       "1                 0  \n",
       "2                 0  \n",
       "3                 1  \n",
       "4                 0  "
      ]
     },
     "execution_count": 21,
     "metadata": {},
     "output_type": "execute_result"
    }
   ],
   "source": [
    "df.head()"
   ]
  },
  {
   "cell_type": "code",
   "execution_count": 22,
   "metadata": {},
   "outputs": [],
   "source": [
    "df=df.drop(['Device_Used','Is_Response'],1)"
   ]
  },
  {
   "cell_type": "markdown",
   "metadata": {},
   "source": [
    "# After sorting done now will work on the Text part"
   ]
  },
  {
   "cell_type": "code",
   "execution_count": 2,
   "metadata": {},
   "outputs": [],
   "source": [
    "import nltk\n",
    "import string \n",
    "from nltk.corpus import stopwords\n",
    "from nltk.stem.porter import PorterStemmer"
   ]
  },
  {
   "cell_type": "code",
   "execution_count": 43,
   "metadata": {},
   "outputs": [],
   "source": [
    "# A composite function created for cleaning the text data.\n",
    "def text_process(mess):\n",
    "   # Check characters to see if they are in punctuation\n",
    "    nopunc = [char for char in mess if char not in string.punctuation]\n",
    "\n",
    "    # Join the characters again to form the string.\n",
    "    nopunc = ''.join(nopunc)\n",
    "    ps=PorterStemmer()\n",
    "    # Now just remove any stopwords and steaming\n",
    "    k1=[ps.stem(word) for word in nopunc.split() if word.lower() not in stopwords.words('english')]   \n",
    "    return ' '.join(k1)\n",
    "df['Description1']=df['Description'].apply(text_process).astype('str')"
   ]
  },
  {
   "cell_type": "code",
   "execution_count": null,
   "metadata": {},
   "outputs": [],
   "source": [
    "df['Description1']=df['Description'].apply(text_process).astype('str')"
   ]
  },
  {
   "cell_type": "code",
   "execution_count": null,
   "metadata": {},
   "outputs": [],
   "source": [
    "df.to_csv('temp.csv', index=False)"
   ]
  },
  {
   "cell_type": "code",
   "execution_count": 116,
   "metadata": {},
   "outputs": [],
   "source": [
    "from textblob import TextBlob"
   ]
  },
  {
   "cell_type": "code",
   "execution_count": null,
   "metadata": {},
   "outputs": [],
   "source": [
    "df['polarity'] = df['Description1'].apply(lambda x: TextBlob(x).sentiment.polarity)\n",
    "df['subjectivity'] = df['Description1'].apply(lambda x: TextBlob(x).sentiment.subjectivity)\n",
    "df=df.drop(['sentiment'],1)"
   ]
  },
  {
   "cell_type": "code",
   "execution_count": null,
   "metadata": {},
   "outputs": [],
   "source": [
    "df.head()"
   ]
  },
  {
   "cell_type": "code",
   "execution_count": 6,
   "metadata": {},
   "outputs": [
    {
     "ename": "NameError",
     "evalue": "name 'df' is not defined",
     "output_type": "error",
     "traceback": [
      "\u001b[1;31m---------------------------------------------------------------------------\u001b[0m",
      "\u001b[1;31mNameError\u001b[0m                                 Traceback (most recent call last)",
      "\u001b[1;32m<ipython-input-6-6d4bb45958c4>\u001b[0m in \u001b[0;36m<module>\u001b[1;34m()\u001b[0m\n\u001b[1;32m----> 1\u001b[1;33m \u001b[0mdf\u001b[0m\u001b[1;33m.\u001b[0m\u001b[0mto_csv\u001b[0m\u001b[1;33m(\u001b[0m\u001b[1;34m'temp.csv'\u001b[0m\u001b[1;33m,\u001b[0m \u001b[0mindex\u001b[0m\u001b[1;33m=\u001b[0m\u001b[1;32mFalse\u001b[0m\u001b[1;33m)\u001b[0m\u001b[1;33m\u001b[0m\u001b[0m\n\u001b[0m",
      "\u001b[1;31mNameError\u001b[0m: name 'df' is not defined"
     ]
    }
   ],
   "source": [
    "df.to_csv('temp.csv', index=False)"
   ]
  },
  {
   "cell_type": "code",
   "execution_count": 104,
   "metadata": {},
   "outputs": [],
   "source": [
    "df=pd.read_csv('temp.csv',encoding = \"ISO-8859-1\")\n"
   ]
  },
  {
   "cell_type": "markdown",
   "metadata": {},
   "source": [
    "# lets know little birt about the text "
   ]
  },
  {
   "cell_type": "code",
   "execution_count": 105,
   "metadata": {},
   "outputs": [],
   "source": [
    "df['desc_len']=df['Description1'].apply(len)"
   ]
  },
  {
   "cell_type": "code",
   "execution_count": 71,
   "metadata": {},
   "outputs": [
    {
     "data": {
      "image/png": "[encoded data removed]",
      "text/plain": [
       "<matplotlib.figure.Figure at 0x11ae7a90>"
      ]
     },
     "metadata": {},
     "output_type": "display_data"
    }
   ],
   "source": [
    "sns.countplot(hue=\"Is_Response_hppy\", x=\"desc_len\",data=df);"
   ]
  },
  {
   "cell_type": "code",
   "execution_count": 43,
   "metadata": {},
   "outputs": [
    {
     "data": {
      "image/png": "[encoded data removed]",
      "text/plain": [
       "<matplotlib.figure.Figure at 0x20632cf8>"
      ]
     },
     "metadata": {},
     "output_type": "display_data"
    }
   ],
   "source": [
    "sns.barplot(x=\"Is_Response_hppy\", y=\"desc_len\",data=df);"
   ]
  },
  {
   "cell_type": "markdown",
   "metadata": {},
   "source": [
    "it seems leanght is separating happy and unhappy people so can use as a feature."
   ]
  },
  {
   "cell_type": "code",
   "execution_count": 106,
   "metadata": {},
   "outputs": [],
   "source": [
    "from sklearn.feature_extraction.text import TfidfVectorizer\n",
    "vect = TfidfVectorizer(max_features = 30, max_df = 1.0, min_df = 1, \n",
    "                       use_idf = True,analyzer = 'word', ngram_range = (1,1))\n",
    "X = vect.fit_transform(df['Description1'])\n",
    "tx1 = pd.DataFrame(X.toarray(), columns=vect.get_feature_names())\n"
   ]
  },
  {
   "cell_type": "code",
   "execution_count": 107,
   "metadata": {},
   "outputs": [
    {
     "data": {
      "text/html": [
       "<div>\n",
       "<style>\n",
       "    .dataframe thead tr:only-child th {\n",
       "        text-align: right;\n",
       "    }\n",
       "\n",
       "    .dataframe thead th {\n",
       "        text-align: left;\n",
       "    }\n",
       "\n",
       "    .dataframe tbody tr th {\n",
       "        vertical-align: top;\n",
       "    }\n",
       "</style>\n",
       "<table border=\"1\" class=\"dataframe\">\n",
       "  <thead>\n",
       "    <tr style=\"text-align: right;\">\n",
       "      <th></th>\n",
       "      <th>also</th>\n",
       "      <th>area</th>\n",
       "      <th>bed</th>\n",
       "      <th>breakfast</th>\n",
       "      <th>clean</th>\n",
       "      <th>comfort</th>\n",
       "      <th>day</th>\n",
       "      <th>desk</th>\n",
       "      <th>even</th>\n",
       "      <th>get</th>\n",
       "      <th>...</th>\n",
       "      <th>park</th>\n",
       "      <th>place</th>\n",
       "      <th>room</th>\n",
       "      <th>servic</th>\n",
       "      <th>staff</th>\n",
       "      <th>stay</th>\n",
       "      <th>time</th>\n",
       "      <th>us</th>\n",
       "      <th>walk</th>\n",
       "      <th>would</th>\n",
       "    </tr>\n",
       "  </thead>\n",
       "  <tbody>\n",
       "    <tr>\n",
       "      <th>0</th>\n",
       "      <td>0.000000</td>\n",
       "      <td>0.000000</td>\n",
       "      <td>0.000000</td>\n",
       "      <td>0.484531</td>\n",
       "      <td>0.423308</td>\n",
       "      <td>0.00000</td>\n",
       "      <td>0.000000</td>\n",
       "      <td>0.000000</td>\n",
       "      <td>0.000000</td>\n",
       "      <td>0.000000</td>\n",
       "      <td>...</td>\n",
       "      <td>0.000000</td>\n",
       "      <td>0.0</td>\n",
       "      <td>0.257115</td>\n",
       "      <td>0.000000</td>\n",
       "      <td>0.000000</td>\n",
       "      <td>0.587725</td>\n",
       "      <td>0.0</td>\n",
       "      <td>0.000000</td>\n",
       "      <td>0.000000</td>\n",
       "      <td>0.417746</td>\n",
       "    </tr>\n",
       "    <tr>\n",
       "      <th>1</th>\n",
       "      <td>0.000000</td>\n",
       "      <td>0.243257</td>\n",
       "      <td>0.204708</td>\n",
       "      <td>0.000000</td>\n",
       "      <td>0.000000</td>\n",
       "      <td>0.22794</td>\n",
       "      <td>0.227256</td>\n",
       "      <td>0.000000</td>\n",
       "      <td>0.238230</td>\n",
       "      <td>0.000000</td>\n",
       "      <td>...</td>\n",
       "      <td>0.000000</td>\n",
       "      <td>0.0</td>\n",
       "      <td>0.229839</td>\n",
       "      <td>0.000000</td>\n",
       "      <td>0.328011</td>\n",
       "      <td>0.262688</td>\n",
       "      <td>0.0</td>\n",
       "      <td>0.000000</td>\n",
       "      <td>0.000000</td>\n",
       "      <td>0.373429</td>\n",
       "    </tr>\n",
       "    <tr>\n",
       "      <th>2</th>\n",
       "      <td>0.345207</td>\n",
       "      <td>0.000000</td>\n",
       "      <td>0.000000</td>\n",
       "      <td>0.156344</td>\n",
       "      <td>0.000000</td>\n",
       "      <td>0.00000</td>\n",
       "      <td>0.164063</td>\n",
       "      <td>0.173671</td>\n",
       "      <td>0.000000</td>\n",
       "      <td>0.156805</td>\n",
       "      <td>...</td>\n",
       "      <td>0.177657</td>\n",
       "      <td>0.0</td>\n",
       "      <td>0.580746</td>\n",
       "      <td>0.155593</td>\n",
       "      <td>0.118400</td>\n",
       "      <td>0.000000</td>\n",
       "      <td>0.0</td>\n",
       "      <td>0.167045</td>\n",
       "      <td>0.000000</td>\n",
       "      <td>0.269589</td>\n",
       "    </tr>\n",
       "    <tr>\n",
       "      <th>3</th>\n",
       "      <td>0.000000</td>\n",
       "      <td>0.000000</td>\n",
       "      <td>0.285759</td>\n",
       "      <td>0.000000</td>\n",
       "      <td>0.000000</td>\n",
       "      <td>0.00000</td>\n",
       "      <td>0.000000</td>\n",
       "      <td>0.000000</td>\n",
       "      <td>0.332554</td>\n",
       "      <td>0.000000</td>\n",
       "      <td>...</td>\n",
       "      <td>0.000000</td>\n",
       "      <td>0.0</td>\n",
       "      <td>0.481261</td>\n",
       "      <td>0.601717</td>\n",
       "      <td>0.000000</td>\n",
       "      <td>0.183348</td>\n",
       "      <td>0.0</td>\n",
       "      <td>0.000000</td>\n",
       "      <td>0.301849</td>\n",
       "      <td>0.000000</td>\n",
       "    </tr>\n",
       "    <tr>\n",
       "      <th>4</th>\n",
       "      <td>0.000000</td>\n",
       "      <td>0.000000</td>\n",
       "      <td>0.000000</td>\n",
       "      <td>0.000000</td>\n",
       "      <td>0.103365</td>\n",
       "      <td>0.00000</td>\n",
       "      <td>0.000000</td>\n",
       "      <td>0.000000</td>\n",
       "      <td>0.000000</td>\n",
       "      <td>0.118663</td>\n",
       "      <td>...</td>\n",
       "      <td>0.134443</td>\n",
       "      <td>0.0</td>\n",
       "      <td>0.188350</td>\n",
       "      <td>0.588731</td>\n",
       "      <td>0.000000</td>\n",
       "      <td>0.502294</td>\n",
       "      <td>0.0</td>\n",
       "      <td>0.252825</td>\n",
       "      <td>0.000000</td>\n",
       "      <td>0.306020</td>\n",
       "    </tr>\n",
       "  </tbody>\n",
       "</table>\n",
       "<p>5 rows × 30 columns</p>\n",
       "</div>"
      ],
      "text/plain": [
       "       also      area       bed  breakfast     clean  comfort       day  \\\n",
       "0  0.000000  0.000000  0.000000   0.484531  0.423308  0.00000  0.000000   \n",
       "1  0.000000  0.243257  0.204708   0.000000  0.000000  0.22794  0.227256   \n",
       "2  0.345207  0.000000  0.000000   0.156344  0.000000  0.00000  0.164063   \n",
       "3  0.000000  0.000000  0.285759   0.000000  0.000000  0.00000  0.000000   \n",
       "4  0.000000  0.000000  0.000000   0.000000  0.103365  0.00000  0.000000   \n",
       "\n",
       "       desk      even       get    ...         park  place      room  \\\n",
       "0  0.000000  0.000000  0.000000    ...     0.000000    0.0  0.257115   \n",
       "1  0.000000  0.238230  0.000000    ...     0.000000    0.0  0.229839   \n",
       "2  0.173671  0.000000  0.156805    ...     0.177657    0.0  0.580746   \n",
       "3  0.000000  0.332554  0.000000    ...     0.000000    0.0  0.481261   \n",
       "4  0.000000  0.000000  0.118663    ...     0.134443    0.0  0.188350   \n",
       "\n",
       "     servic     staff      stay  time        us      walk     would  \n",
       "0  0.000000  0.000000  0.587725   0.0  0.000000  0.000000  0.417746  \n",
       "1  0.000000  0.328011  0.262688   0.0  0.000000  0.000000  0.373429  \n",
       "2  0.155593  0.118400  0.000000   0.0  0.167045  0.000000  0.269589  \n",
       "3  0.601717  0.000000  0.183348   0.0  0.000000  0.301849  0.000000  \n",
       "4  0.588731  0.000000  0.502294   0.0  0.252825  0.000000  0.306020  \n",
       "\n",
       "[5 rows x 30 columns]"
      ]
     },
     "execution_count": 107,
     "metadata": {},
     "output_type": "execute_result"
    }
   ],
   "source": [
    "tx1.head()"
   ]
  },
  {
   "cell_type": "code",
   "execution_count": 108,
   "metadata": {},
   "outputs": [],
   "source": [
    "df3= pd.concat([df, tx1], axis=1)\n",
    "df3=df3.drop(['Description1'],1)"
   ]
  },
  {
   "cell_type": "code",
   "execution_count": 109,
   "metadata": {},
   "outputs": [
    {
     "data": {
      "text/plain": [
       "(38932, 42)"
      ]
     },
     "execution_count": 109,
     "metadata": {},
     "output_type": "execute_result"
    }
   ],
   "source": [
    "df3.shape"
   ]
  },
  {
   "cell_type": "code",
   "execution_count": 30,
   "metadata": {},
   "outputs": [
    {
     "name": "stdout",
     "output_type": "stream",
     "text": [
      "<class 'pandas.core.frame.DataFrame'>\n",
      "RangeIndex: 38932 entries, 0 to 38931\n",
      "Data columns (total 42 columns):\n",
      "User_ID             38932 non-null object\n",
      "Description         38932 non-null object\n",
      "bu_Chrome           38932 non-null int64\n",
      "bu_Edge             38932 non-null int64\n",
      "bu_Firefox          38932 non-null int64\n",
      "bu_IE               38932 non-null int64\n",
      "Desktop             38932 non-null int64\n",
      "Mobile              38932 non-null int64\n",
      "Is_Response_hppy    38932 non-null int64\n",
      "polarity            38932 non-null float64\n",
      "subjectivity        38932 non-null float64\n",
      "desc_len            38932 non-null int64\n",
      "also                38932 non-null float64\n",
      "area                38932 non-null float64\n",
      "bed                 38932 non-null float64\n",
      "breakfast           38932 non-null float64\n",
      "clean               38932 non-null float64\n",
      "comfort             38932 non-null float64\n",
      "day                 38932 non-null float64\n",
      "desk                38932 non-null float64\n",
      "even                38932 non-null float64\n",
      "get                 38932 non-null float64\n",
      "go                  38932 non-null float64\n",
      "good                38932 non-null float64\n",
      "great               38932 non-null float64\n",
      "help                38932 non-null float64\n",
      "hotel               38932 non-null float64\n",
      "like                38932 non-null float64\n",
      "locat               38932 non-null float64\n",
      "nice                38932 non-null float64\n",
      "night               38932 non-null float64\n",
      "one                 38932 non-null float64\n",
      "park                38932 non-null float64\n",
      "place               38932 non-null float64\n",
      "room                38932 non-null float64\n",
      "servic              38932 non-null float64\n",
      "staff               38932 non-null float64\n",
      "stay                38932 non-null float64\n",
      "time                38932 non-null float64\n",
      "us                  38932 non-null float64\n",
      "walk                38932 non-null float64\n",
      "would               38932 non-null float64\n",
      "dtypes: float64(32), int64(8), object(2)\n",
      "memory usage: 12.5+ MB\n"
     ]
    }
   ],
   "source": [
    "df3.info()"
   ]
  },
  {
   "cell_type": "code",
   "execution_count": 110,
   "metadata": {},
   "outputs": [],
   "source": [
    "y=df3['Is_Response_hppy']"
   ]
  },
  {
   "cell_type": "code",
   "execution_count": 111,
   "metadata": {},
   "outputs": [],
   "source": [
    "df3=df3.drop(['User_ID','Description','Is_Response_hppy'],1)"
   ]
  },
  {
   "cell_type": "code",
   "execution_count": 32,
   "metadata": {},
   "outputs": [],
   "source": [
    "#use random forest since it has better accuracy"
   ]
  },
  {
   "cell_type": "code",
   "execution_count": 112,
   "metadata": {},
   "outputs": [],
   "source": [
    "from sklearn.model_selection import train_test_split\n",
    "X_train,X_test,y_train,y_test=train_test_split(df3,y, test_size=.25,random_state=12)"
   ]
  },
  {
   "cell_type": "code",
   "execution_count": 34,
   "metadata": {},
   "outputs": [],
   "source": [
    "from sklearn.ensemble import RandomForestClassifier\n",
    "from sklearn.model_selection import GridSearchCV\n",
    "from time import time"
   ]
  },
  {
   "cell_type": "markdown",
   "metadata": {},
   "source": [
    "grid_times = {}\n",
    "clf = RandomForestClassifier(random_state = 84)\n",
    "\n",
    "features = X_train.columns\n",
    "\n",
    "# I commented this out after running once locally since this block of code takes a long time to run\n",
    "\n",
    "for number in np.arange(2, 600, 50):\n",
    "    \n",
    "    param = np.arange(1,number,10)\n",
    "    param_grid = {\"n_estimators\": param,\n",
    "                  \"criterion\": [\"gini\", \"entropy\"]}\n",
    "    \n",
    "    grid_search = GridSearchCV(clf, param_grid = param_grid)\n",
    "    \n",
    "    t0 = time()\n",
    "    grid_search.fit(X_train[features], y_train)\n",
    "    compute_time = time() - t0\n",
    "    grid_times[len(grid_search.grid_scores_)] = time() - t0\n",
    "    \n",
    "grid_times = pd.DataFrame.from_dict(grid_times, orient = 'index')\n"
   ]
  },
  {
   "cell_type": "code",
   "execution_count": 35,
   "metadata": {},
   "outputs": [
    {
     "ename": "NameError",
     "evalue": "name 'grid_times' is not defined",
     "output_type": "error",
     "traceback": [
      "\u001b[1;31m---------------------------------------------------------------------------\u001b[0m",
      "\u001b[1;31mNameError\u001b[0m                                 Traceback (most recent call last)",
      "\u001b[1;32m<ipython-input-35-78eec7803fba>\u001b[0m in \u001b[0;36m<module>\u001b[1;34m()\u001b[0m\n\u001b[1;32m----> 1\u001b[1;33m \u001b[0mgrid_times\u001b[0m\u001b[1;33m\u001b[0m\u001b[0m\n\u001b[0m",
      "\u001b[1;31mNameError\u001b[0m: name 'grid_times' is not defined"
     ]
    }
   ],
   "source": [
    "grid_times"
   ]
  },
  {
   "cell_type": "code",
   "execution_count": 113,
   "metadata": {},
   "outputs": [
    {
     "data": {
      "text/plain": [
       "(29199, 39)"
      ]
     },
     "execution_count": 113,
     "metadata": {},
     "output_type": "execute_result"
    }
   ],
   "source": [
    "X_train.shape"
   ]
  },
  {
   "cell_type": "code",
   "execution_count": 52,
   "metadata": {},
   "outputs": [],
   "source": [
    "from sklearn.preprocessing import StandardScaler\n",
    "sc=StandardScaler()\n",
    "X_train=sc.fit_transform(X_train)\n",
    "X_test=sc.transform(X_test)"
   ]
  },
  {
   "cell_type": "code",
   "execution_count": 114,
   "metadata": {},
   "outputs": [
    {
     "name": "stdout",
     "output_type": "stream",
     "text": [
      "<class 'pandas.core.frame.DataFrame'>\n",
      "Int64Index: 29199 entries, 1075 to 14155\n",
      "Data columns (total 39 columns):\n",
      "bu_Chrome       29199 non-null int64\n",
      "bu_Edge         29199 non-null int64\n",
      "bu_Firefox      29199 non-null int64\n",
      "bu_IE           29199 non-null int64\n",
      "Desktop         29199 non-null int64\n",
      "Mobile          29199 non-null int64\n",
      "polarity        29199 non-null float64\n",
      "subjectivity    29199 non-null float64\n",
      "desc_len        29199 non-null int64\n",
      "also            29199 non-null float64\n",
      "area            29199 non-null float64\n",
      "bed             29199 non-null float64\n",
      "breakfast       29199 non-null float64\n",
      "clean           29199 non-null float64\n",
      "comfort         29199 non-null float64\n",
      "day             29199 non-null float64\n",
      "desk            29199 non-null float64\n",
      "even            29199 non-null float64\n",
      "get             29199 non-null float64\n",
      "go              29199 non-null float64\n",
      "good            29199 non-null float64\n",
      "great           29199 non-null float64\n",
      "help            29199 non-null float64\n",
      "hotel           29199 non-null float64\n",
      "like            29199 non-null float64\n",
      "locat           29199 non-null float64\n",
      "nice            29199 non-null float64\n",
      "night           29199 non-null float64\n",
      "one             29199 non-null float64\n",
      "park            29199 non-null float64\n",
      "place           29199 non-null float64\n",
      "room            29199 non-null float64\n",
      "servic          29199 non-null float64\n",
      "staff           29199 non-null float64\n",
      "stay            29199 non-null float64\n",
      "time            29199 non-null float64\n",
      "us              29199 non-null float64\n",
      "walk            29199 non-null float64\n",
      "would           29199 non-null float64\n",
      "dtypes: float64(32), int64(7)\n",
      "memory usage: 8.9 MB\n"
     ]
    }
   ],
   "source": [
    "X_train.info()"
   ]
  },
  {
   "cell_type": "code",
   "execution_count": 115,
   "metadata": {},
   "outputs": [
    {
     "name": "stdout",
     "output_type": "stream",
     "text": [
      "<class 'pandas.core.frame.DataFrame'>\n",
      "RangeIndex: 29404 entries, 0 to 29403\n",
      "Data columns (total 37 columns):\n",
      "bu_Chrome     29404 non-null uint8\n",
      "bu_Edge       29404 non-null uint8\n",
      "bu_Firefox    29404 non-null uint8\n",
      "bu_IE         29404 non-null uint8\n",
      "Desktop       29404 non-null int32\n",
      "Mobile        29404 non-null int32\n",
      "desc_len      29404 non-null int64\n",
      "also          29404 non-null float64\n",
      "area          29404 non-null float64\n",
      "bed           29404 non-null float64\n",
      "breakfast     29404 non-null float64\n",
      "clean         29404 non-null float64\n",
      "comfort       29404 non-null float64\n",
      "day           29404 non-null float64\n",
      "desk          29404 non-null float64\n",
      "even          29404 non-null float64\n",
      "get           29404 non-null float64\n",
      "go            29404 non-null float64\n",
      "good          29404 non-null float64\n",
      "great         29404 non-null float64\n",
      "help          29404 non-null float64\n",
      "hotel         29404 non-null float64\n",
      "like          29404 non-null float64\n",
      "locat         29404 non-null float64\n",
      "nice          29404 non-null float64\n",
      "night         29404 non-null float64\n",
      "one           29404 non-null float64\n",
      "park          29404 non-null float64\n",
      "place         29404 non-null float64\n",
      "room          29404 non-null float64\n",
      "servic        29404 non-null float64\n",
      "staff         29404 non-null float64\n",
      "stay          29404 non-null float64\n",
      "time          29404 non-null float64\n",
      "us            29404 non-null float64\n",
      "walk          29404 non-null float64\n",
      "would         29404 non-null float64\n",
      "dtypes: float64(30), int32(2), int64(1), uint8(4)\n",
      "memory usage: 7.3 MB\n"
     ]
    }
   ],
   "source": [
    "tf3.info()"
   ]
  },
  {
   "cell_type": "code",
   "execution_count": 53,
   "metadata": {},
   "outputs": [],
   "source": [
    "# now i will implement ddep learning to see if i can get anything better \n",
    "import keras\n",
    "from keras.models import Sequential\n",
    "from keras.layers import Dense\n",
    "from keras.layers import Dropout\n",
    "\n",
    "\n"
   ]
  },
  {
   "cell_type": "code",
   "execution_count": 54,
   "metadata": {},
   "outputs": [],
   "source": [
    "clf=Sequential()\n",
    "clf.add(Dense(units=16, kernel_initializer=\"uniform\",activation='relu',input_dim=39)) \n",
    "clf.add(Dense(units=8, kernel_initializer=\"uniform\",activation='relu'))\n",
    "clf.add(Dense(units=1, kernel_initializer=\"uniform\",activation='sigmoid'))\n",
    "clf.compile(optimizer='rmsprop',loss='binary_crossentropy',metrics=['accuracy'])"
   ]
  },
  {
   "cell_type": "code",
   "execution_count": 55,
   "metadata": {},
   "outputs": [
    {
     "name": "stdout",
     "output_type": "stream",
     "text": [
      "Epoch 1/100\n",
      "29199/29199 [==============================] - 3s - loss: 0.4777 - acc: 0.7726     - ETA: 0s - loss: 0.4790 - acc: 0.77\n",
      "Epoch 2/100\n",
      "29199/29199 [==============================] - 1s - loss: 0.4382 - acc: 0.7997     - ETA: 0s - loss: 0.4427 - acc:  - ETA: 0s - loss: 0.4422 -\n",
      "Epoch 3/100\n",
      "29199/29199 [==============================] - 1s - loss: 0.4302 - acc: 0.8039     - ETA: 0s - loss: 0.4290 -\n",
      "Epoch 4/100\n",
      "29199/29199 [==============================] - 1s - loss: 0.4269 - acc: 0.8066     - ETA: 0s - loss: 0.4269 - acc: 0\n",
      "Epoch 5/100\n",
      "29199/29199 [==============================] - 1s - loss: 0.4257 - acc: 0.8064     - ETA: 1s - loss\n",
      "Epoch 6/100\n",
      "29199/29199 [==============================] - 1s - loss: 0.4240 - acc: 0.8075     \n",
      "Epoch 7/100\n",
      "29199/29199 [==============================] - 1s - loss: 0.4234 - acc: 0.8088     - ETA: 0s - loss: 0.4241 - acc:  - ETA: 0s - loss: 0.421\n",
      "Epoch 8/100\n",
      "29199/29199 [==============================] - 1s - loss: 0.4217 - acc: 0.8101     \n",
      "Epoch 9/100\n",
      "29199/29199 [==============================] - 1s - loss: 0.4218 - acc: 0.8087     - ETA: 0s - loss: 0.4164 - acc: 0.8 - ETA: 0s - loss: 0.4199 \n",
      "Epoch 10/100\n",
      "29199/29199 [==============================] - 1s - loss: 0.4219 - acc: 0.8101     \n",
      "Epoch 11/100\n",
      "29199/29199 [==============================] - 1s - loss: 0.4207 - acc: 0.8101     \n",
      "Epoch 12/100\n",
      "29199/29199 [==============================] - 1s - loss: 0.4207 - acc: 0.8096     - ETA: 1s - loss:\n",
      "Epoch 13/100\n",
      "29199/29199 [==============================] - 1s - loss: 0.4202 - acc: 0.8116     - ETA: 1\n",
      "Epoch 14/100\n",
      "29199/29199 [==============================] - 1s - loss: 0.4195 - acc: 0.8125     - ETA: 0s - loss: 0.4189 - acc: 0.\n",
      "Epoch 15/100\n",
      "29199/29199 [==============================] - 1s - loss: 0.4195 - acc: 0.8114     - ETA: 1s - loss: 0.4192 - acc: 0 - ETA: 1s - los\n",
      "Epoch 16/100\n",
      "29199/29199 [==============================] - 1s - loss: 0.4192 - acc: 0.8119     - ETA: 0s - loss: 0.4163\n",
      "Epoch 17/100\n",
      "29199/29199 [==============================] - 1s - loss: 0.4187 - acc: 0.8123     - ETA: 0s - loss: 0.4182 - acc: 0.812\n",
      "Epoch 18/100\n",
      "29199/29199 [==============================] - 1s - loss: 0.4186 - acc: 0.8114     - ETA: 0s - loss: 0.4173 - \n",
      "Epoch 19/100\n",
      "29199/29199 [==============================] - 2s - loss: 0.4184 - acc: 0.8129     - ETA: 1s - loss:\n",
      "Epoch 20/100\n",
      "29199/29199 [==============================] - 1s - loss: 0.4183 - acc: 0.8123     - ETA: 0s - loss: 0.416\n",
      "Epoch 21/100\n",
      "29199/29199 [==============================] - 1s - loss: 0.4182 - acc: 0.8128     \n",
      "Epoch 22/100\n",
      "29199/29199 [==============================] - 1s - loss: 0.4177 - acc: 0.8140     - ETA: 0s - loss: 0.416\n",
      "Epoch 23/100\n",
      "29199/29199 [==============================] - 1s - loss: 0.4176 - acc: 0.8108     - ETA: 1s - loss:\n",
      "Epoch 24/100\n",
      "29199/29199 [==============================] - 1s - loss: 0.4173 - acc: 0.8127     \n",
      "Epoch 25/100\n",
      "29199/29199 [==============================] - 1s - loss: 0.4177 - acc: 0.8123     \n",
      "Epoch 26/100\n",
      "29199/29199 [==============================] - 1s - loss: 0.4172 - acc: 0.8136     - ETA: 1s -\n",
      "Epoch 27/100\n",
      "29199/29199 [==============================] - 1s - loss: 0.4180 - acc: 0.8124     \n",
      "Epoch 28/100\n",
      "29199/29199 [==============================] - 1s - loss: 0.4170 - acc: 0.8125     - ETA: 0s - loss: 0.4181 - \n",
      "Epoch 29/100\n",
      "29199/29199 [==============================] - 1s - loss: 0.4173 - acc: 0.8131     - ETA: 0s - loss: 0.41\n",
      "Epoch 30/100\n",
      "29199/29199 [==============================] - 1s - loss: 0.4169 - acc: 0.8121     \n",
      "Epoch 31/100\n",
      "29199/29199 [==============================] - 1s - loss: 0.4167 - acc: 0.8132     \n",
      "Epoch 32/100\n",
      "29199/29199 [==============================] - 1s - loss: 0.4173 - acc: 0.8128     \n",
      "Epoch 33/100\n",
      "29199/29199 [==============================] - 1s - loss: 0.4173 - acc: 0.8131     - ETA: 0s - loss: 0.4177 -\n",
      "Epoch 34/100\n",
      "29199/29199 [==============================] - 1s - loss: 0.4170 - acc: 0.8126     - ETA: 1s - loss: 0.4182 - acc: 0 - ETA: 0s - loss: 0.4175 - ETA: 0s - loss: 0.4163 - acc: 0.8\n",
      "Epoch 35/100\n",
      "29199/29199 [==============================] - 1s - loss: 0.4168 - acc: 0.8135     - ETA: 0s - loss: 0.41\n",
      "Epoch 36/100\n",
      "29199/29199 [==============================] - 1s - loss: 0.4176 - acc: 0.8116     \n",
      "Epoch 37/100\n",
      "29199/29199 [==============================] - 1s - loss: 0.4169 - acc: 0.8130     - ETA: 0s - loss: 0.4167 - ac\n",
      "Epoch 38/100\n",
      "29199/29199 [==============================] - 1s - loss: 0.4174 - acc: 0.8121     - ETA: 0s - loss: 0.4129 - acc - ETA: 0s - loss: 0.4164 - acc: 0.8\n",
      "Epoch 39/100\n",
      "29199/29199 [==============================] - 1s - loss: 0.4169 - acc: 0.8127     - ETA: 1s -\n",
      "Epoch 40/100\n",
      "29199/29199 [==============================] - 1s - loss: 0.4171 - acc: 0.8124     \n",
      "Epoch 41/100\n",
      "29199/29199 [==============================] - 1s - loss: 0.4177 - acc: 0.8128     - ETA: 1s - loss\n",
      "Epoch 42/100\n",
      "29199/29199 [==============================] - 1s - loss: 0.4172 - acc: 0.8123     - ETA: 0s - loss: 0.4140 - acc:  - ETA: 0s - loss: 0.4142 - acc\n",
      "Epoch 43/100\n",
      "29199/29199 [==============================] - 1s - loss: 0.4170 - acc: 0.8124     - ETA: 0s - loss: 0.4151 - ac\n",
      "Epoch 44/100\n",
      "29199/29199 [==============================] - 1s - loss: 0.4172 - acc: 0.8129     \n",
      "Epoch 45/100\n",
      "29199/29199 [==============================] - 1s - loss: 0.4176 - acc: 0.8117     - ETA: 0s - loss: 0.4160 - acc: - ETA: 0s - loss: 0.4166 - acc:\n",
      "Epoch 46/100\n",
      "29199/29199 [==============================] - 1s - loss: 0.4171 - acc: 0.8130     - ETA: 1s -\n",
      "Epoch 47/100\n",
      "29199/29199 [==============================] - 1s - loss: 0.4164 - acc: 0.8142     \n",
      "Epoch 48/100\n",
      "29199/29199 [==============================] - 1s - loss: 0.4176 - acc: 0.8121     - ETA: 0s - loss: 0.4148\n",
      "Epoch 49/100\n",
      "29199/29199 [==============================] - 1s - loss: 0.4171 - acc: 0.8129     \n",
      "Epoch 50/100\n",
      "29199/29199 [==============================] - 1s - loss: 0.4170 - acc: 0.8117     \n",
      "Epoch 51/100\n",
      "29199/29199 [==============================] - 1s - loss: 0.4166 - acc: 0.8138     - ETA: 1s -\n",
      "Epoch 52/100\n",
      "29199/29199 [==============================] - 1s - loss: 0.4166 - acc: 0.8135     - ETA: 0s - loss: 0\n",
      "Epoch 53/100\n",
      "29199/29199 [==============================] - 1s - loss: 0.4166 - acc: 0.8140     \n",
      "Epoch 54/100\n",
      "29199/29199 [==============================] - 1s - loss: 0.4166 - acc: 0.8127     \n",
      "Epoch 55/100\n",
      "29199/29199 [==============================] - 1s - loss: 0.4166 - acc: 0.8122     \n",
      "Epoch 56/100\n",
      "29199/29199 [==============================] - 1s - loss: 0.4162 - acc: 0.8135     - ETA:\n",
      "Epoch 57/100\n",
      "29199/29199 [==============================] - 1s - loss: 0.4171 - acc: 0.8119     - ETA: 1s - lo\n",
      "Epoch 58/100\n",
      "29199/29199 [==============================] - 1s - loss: 0.4164 - acc: 0.8131     - ETA: 0s - loss: 0.4182 - acc\n",
      "Epoch 59/100\n",
      "29199/29199 [==============================] - 1s - loss: 0.4164 - acc: 0.8120     - ETA: 1s - loss: 0.4207 - acc - ETA: 1s - loss: 0.4214 - - ETA: 0s - loss: 0.4157 - ac\n",
      "Epoch 60/100\n",
      "29199/29199 [==============================] - 1s - loss: 0.4171 - acc: 0.8123     - ETA: 0s - loss: 0.4156 - a\n",
      "Epoch 61/100\n",
      "29199/29199 [==============================] - 1s - loss: 0.4170 - acc: 0.8125     - ETA: 1s - - ETA: 0s - loss: 0.4174 - acc: 0.8\n",
      "Epoch 62/100\n",
      "29199/29199 [==============================] - 1s - loss: 0.4171 - acc: 0.8131     - ETA: 0s - loss: 0.4140 - ETA: 0s - loss: 0.4162 - acc: 0.\n",
      "Epoch 63/100\n",
      "29199/29199 [==============================] - 1s - loss: 0.4172 - acc: 0.8122     \n",
      "Epoch 64/100\n",
      "29199/29199 [==============================] - 1s - loss: 0.4173 - acc: 0.8120     \n",
      "Epoch 65/100\n",
      "29199/29199 [==============================] - 1s - loss: 0.4175 - acc: 0.8128     \n",
      "Epoch 66/100\n",
      "29199/29199 [==============================] - 1s - loss: 0.4179 - acc: 0.8117     - ETA: 1s -\n",
      "Epoch 67/100\n",
      "29199/29199 [==============================] - 1s - loss: 0.4181 - acc: 0.8123     - ETA: 1s - \n",
      "Epoch 68/100\n",
      "29199/29199 [==============================] - 1s - loss: 0.4179 - acc: 0.8122     - ETA: 0s - loss: 0.4193 - acc - ETA: 0s - loss: 0.4167 - acc: 0.8 - ETA: 0s - loss: 0.4182 - acc\n",
      "Epoch 69/100\n",
      "29199/29199 [==============================] - 1s - loss: 0.4185 - acc: 0.8118     - ETA: 0s - loss: 0.4\n",
      "Epoch 70/100\n",
      "29199/29199 [==============================] - 1s - loss: 0.4179 - acc: 0.8116     \n",
      "Epoch 71/100\n",
      "29199/29199 [==============================] - 1s - loss: 0.4177 - acc: 0.8127     \n",
      "Epoch 72/100\n",
      "29199/29199 [==============================] - 1s - loss: 0.4185 - acc: 0.8125     - ETA: 1s\n",
      "Epoch 73/100\n",
      "29199/29199 [==============================] - 1s - loss: 0.4178 - acc: 0.8115     - ETA: 0s - loss: 0\n",
      "Epoch 74/100\n",
      "29199/29199 [==============================] - 1s - loss: 0.4183 - acc: 0.8119     - ETA: 1s - loss: 0.4192  - ETA: 0s - loss: 0.4213 - \n",
      "Epoch 75/100\n",
      "29199/29199 [==============================] - 1s - loss: 0.4187 - acc: 0.8126     \n",
      "Epoch 76/100\n",
      "29199/29199 [==============================] - 1s - loss: 0.4187 - acc: 0.8132     \n",
      "Epoch 77/100\n",
      "29199/29199 [==============================] - 1s - loss: 0.4193 - acc: 0.8115     \n",
      "Epoch 78/100\n",
      "29199/29199 [==============================] - 1s - loss: 0.4189 - acc: 0.8123     - ETA: 0s - loss: 0.4173 - acc: 0.811 - ETA: 0s - loss: 0.4184 - acc - ETA: 0s - loss: 0.4175 - ac\n",
      "Epoch 79/100\n",
      "29199/29199 [==============================] - 1s - loss: 0.4184 - acc: 0.8123     - ETA: 1s -\n",
      "Epoch 80/100\n",
      "29199/29199 [==============================] - 1s - loss: 0.4195 - acc: 0.8114     - ETA: 1s - loss: 0.4200 - acc:  - ETA: 0s - loss: 0.\n",
      "Epoch 81/100\n",
      "29199/29199 [==============================] - 1s - loss: 0.4191 - acc: 0.8118     - ETA: 0s - loss: 0.4189\n",
      "Epoch 82/100\n",
      "29199/29199 [==============================] - 1s - loss: 0.4194 - acc: 0.8118     - ETA: 0s - loss: 0.42\n",
      "Epoch 83/100\n",
      "29199/29199 [==============================] - 1s - loss: 0.4196 - acc: 0.8124     \n",
      "Epoch 84/100\n",
      "29199/29199 [==============================] - 1s - loss: 0.4201 - acc: 0.8124     - ETA: 0s - loss: 0.4194 - acc: 0.812\n",
      "Epoch 85/100\n",
      "29199/29199 [==============================] - 1s - loss: 0.4197 - acc: 0.8119     \n",
      "Epoch 86/100\n",
      "29199/29199 [==============================] - 1s - loss: 0.4196 - acc: 0.8125     \n",
      "Epoch 87/100\n",
      "29199/29199 [==============================] - 1s - loss: 0.4195 - acc: 0.8125     \n",
      "Epoch 88/100\n",
      "29199/29199 [==============================] - 1s - loss: 0.4203 - acc: 0.8121     \n",
      "Epoch 89/100\n",
      "29199/29199 [==============================] - 1s - loss: 0.4200 - acc: 0.8111     - ETA: 1\n",
      "Epoch 90/100\n",
      "29199/29199 [==============================] - 1s - loss: 0.4216 - acc: 0.8112     \n",
      "Epoch 91/100\n",
      "29199/29199 [==============================] - 1s - loss: 0.4212 - acc: 0.8120     \n",
      "Epoch 92/100\n",
      "29199/29199 [==============================] - 1s - loss: 0.4199 - acc: 0.8128     \n",
      "Epoch 93/100\n",
      "29199/29199 [==============================] - 1s - loss: 0.4203 - acc: 0.8118     \n",
      "Epoch 94/100\n",
      "29199/29199 [==============================] - 1s - loss: 0.4210 - acc: 0.8130     \n",
      "Epoch 95/100\n",
      "29199/29199 [==============================] - 1s - loss: 0.4205 - acc: 0.8120     - ETA: 0s - loss: 0.4210 - acc: 0.8 - ETA: 0s - loss: 0.4211 - acc: - ETA: 0s - loss: 0.4206 - acc: 0.8\n",
      "Epoch 96/100\n",
      "29199/29199 [==============================] - 1s - loss: 0.4209 - acc: 0.8116     - ETA: 1s - loss: 0.415 - ETA: 0s - loss: 0.4158 - acc: 0 - ETA: 0s - loss: 0.4191 - acc: 0.\n",
      "Epoch 97/100\n",
      "29199/29199 [==============================] - 1s - loss: 0.4208 - acc: 0.8123     - ETA: 0s - loss: 0.4212 - acc: 0.812\n",
      "Epoch 98/100\n",
      "29199/29199 [==============================] - 1s - loss: 0.4220 - acc: 0.8121     - ETA:\n",
      "Epoch 99/100\n",
      "29199/29199 [==============================] - 1s - loss: 0.4216 - acc: 0.8122     \n",
      "Epoch 100/100\n",
      "29199/29199 [==============================] - 1s - loss: 0.4216 - acc: 0.8123     \n"
     ]
    },
    {
     "data": {
      "text/plain": [
       "<keras.callbacks.History at 0x1366f9e8>"
      ]
     },
     "execution_count": 55,
     "metadata": {},
     "output_type": "execute_result"
    }
   ],
   "source": [
    "clf.fit(X_train,y_train,epochs=100, batch_size=15)"
   ]
  },
  {
   "cell_type": "code",
   "execution_count": 56,
   "metadata": {},
   "outputs": [
    {
     "name": "stdout",
     "output_type": "stream",
     "text": [
      "4512/9733 [============>.................] - ETA: 0s"
     ]
    }
   ],
   "source": [
    "y=clf.predict_classes(X_test)"
   ]
  },
  {
   "cell_type": "code",
   "execution_count": 57,
   "metadata": {},
   "outputs": [],
   "source": [
    "from sklearn.metrics import accuracy_score"
   ]
  },
  {
   "cell_type": "code",
   "execution_count": 58,
   "metadata": {},
   "outputs": [
    {
     "data": {
      "text/plain": [
       "0.79430802424740576"
      ]
     },
     "execution_count": 58,
     "metadata": {},
     "output_type": "execute_result"
    }
   ],
   "source": [
    "accuracy_score(y,y_test)"
   ]
  },
  {
   "cell_type": "markdown",
   "metadata": {},
   "source": [
    "If your computer is fast then only run..\n",
    "# checking the stability of the model by kfold \n",
    "my computer took 3 hrs for thi so keeping it in comment so i dont run it again by mistake but it works n \n",
    "from keras.wrappers.scikit_learn import KerasClassifier\n",
    "from sklearn.model_selection import cross_val_score\n",
    "def build_classifier():\n",
    "    clf=Sequential()\n",
    "    clf.add(Dense(units=16, kernel_initializer=\"uniform\",activation='relu',input_dim=39)) \n",
    "    clf.add(Dense(units=8, kernel_initializer=\"uniform\",activation='relu'))\n",
    "    clf.add(Dense(units=1, kernel_initializer=\"uniform\",activation='sigmoid'))\n",
    "    clf.compile(optimizer='adam',loss='binary_crossentropy',metrics=['accuracy'])\n",
    "    return clf\n",
    "\n",
    "clf=KerasClassifier(build_fn=build_classifier,batch_size=10, nb_epoch=100)\n",
    "accuracies=cross_val_score(estimator=clf,X=X_train,y=y_train,cv=10,n_jobs=-1)\n",
    "mean=accuracies.mean()\n",
    "variance=accuracies.std()"
   ]
  },
  {
   "cell_type": "code",
   "execution_count": 117,
   "metadata": {},
   "outputs": [],
   "source": [
    "tf=pd.read_csv('test.csv')"
   ]
  },
  {
   "cell_type": "code",
   "execution_count": 118,
   "metadata": {},
   "outputs": [],
   "source": [
    "for i in range (len(tf.index)):\n",
    "    if tf[\"Browser_Used\"][i]in ['InternetExplorer','Internet Explorer']:\n",
    "        tf.loc[i,'Browser_Used']='IE'\n",
    "    if tf[\"Browser_Used\"][i]in ['Mozilla','Mozilla Firefox']:\n",
    "        tf.loc[i,'Browser_Used']='Firefox'\n",
    "    if tf[\"Browser_Used\"][i]in ['Google Chrome']:\n",
    "        tf.loc[i,'Browser_Used']='Chrome'    \n",
    "\n",
    "dummy=pd.get_dummies(tf['Browser_Used'],prefix=\"bu\")\n",
    "tf=pd.concat([tf,dummy],1)\n",
    "tf=tf.drop(['bu_Opera','bu_Safari','Browser_Used'],1)\n",
    "tf['Desktop']=np.where(tf['Device_Used']=='Desktop',1,0)\n",
    "tf['Mobile']=np.where(tf['Device_Used']=='Mobile',1,0)\n",
    "\n",
    "\n"
   ]
  },
  {
   "cell_type": "code",
   "execution_count": 119,
   "metadata": {},
   "outputs": [],
   "source": [
    "import nltk\n",
    "import string \n",
    "from nltk.corpus import stopwords\n",
    "from nltk.stem.porter import PorterStemmer"
   ]
  },
  {
   "cell_type": "code",
   "execution_count": 91,
   "metadata": {},
   "outputs": [
    {
     "ename": "NameError",
     "evalue": "name 'text_process' is not defined",
     "output_type": "error",
     "traceback": [
      "\u001b[1;31m---------------------------------------------------------------------------\u001b[0m",
      "\u001b[1;31mNameError\u001b[0m                                 Traceback (most recent call last)",
      "\u001b[1;32m<ipython-input-91-7c344e382399>\u001b[0m in \u001b[0;36m<module>\u001b[1;34m()\u001b[0m\n\u001b[1;32m----> 1\u001b[1;33m \u001b[0mtf\u001b[0m\u001b[1;33m[\u001b[0m\u001b[1;34m'Description1'\u001b[0m\u001b[1;33m]\u001b[0m\u001b[1;33m=\u001b[0m\u001b[0mtf\u001b[0m\u001b[1;33m[\u001b[0m\u001b[1;34m'Description'\u001b[0m\u001b[1;33m]\u001b[0m\u001b[1;33m.\u001b[0m\u001b[0mapply\u001b[0m\u001b[1;33m(\u001b[0m\u001b[0mtext_process\u001b[0m\u001b[1;33m)\u001b[0m\u001b[1;33m.\u001b[0m\u001b[0mastype\u001b[0m\u001b[1;33m(\u001b[0m\u001b[1;34m'str'\u001b[0m\u001b[1;33m)\u001b[0m\u001b[1;33m\u001b[0m\u001b[0m\n\u001b[0m",
      "\u001b[1;31mNameError\u001b[0m: name 'text_process' is not defined"
     ]
    }
   ],
   "source": [
    "tf['Description']=tf['Description'].apply(text_process).astype('str')\n"
   ]
  },
  {
   "cell_type": "code",
   "execution_count": 92,
   "metadata": {},
   "outputs": [],
   "source": [
    "tf.to_csv('temp1.csv', index=False)"
   ]
  },
  {
   "cell_type": "code",
   "execution_count": 121,
   "metadata": {},
   "outputs": [],
   "source": [
    "tf=pd.read_csv('temp1.csv',encoding = \"ISO-8859-1\")"
   ]
  },
  {
   "cell_type": "code",
   "execution_count": 122,
   "metadata": {},
   "outputs": [],
   "source": [
    "tf['polarity'] = tf['Description'].apply(lambda x: TextBlob(x).sentiment.polarity)\n",
    "tf['subjectivity'] = tf['Description'].apply(lambda x: TextBlob(x).sentiment.subjectivity)\n",
    "tf['desc_len']=tf['Description'].apply(len)"
   ]
  },
  {
   "cell_type": "code",
   "execution_count": 123,
   "metadata": {},
   "outputs": [],
   "source": [
    "from sklearn.feature_extraction.text import TfidfVectorizer\n",
    "#vect = TfidfVectorizer(max_features = 30, max_df = 1.0, min_df = 1, use_idf = True,analyzer = 'word', ngram_range = (1,1))\n",
    "dX = vect.transform(tf['Description'])\n",
    "tx2 = pd.DataFrame(dX.toarray(), columns=vect.get_feature_names())\n"
   ]
  },
  {
   "cell_type": "code",
   "execution_count": 124,
   "metadata": {},
   "outputs": [],
   "source": [
    "tf3= pd.concat([tf, tx2], axis=1)"
   ]
  },
  {
   "cell_type": "code",
   "execution_count": 125,
   "metadata": {},
   "outputs": [
    {
     "data": {
      "text/plain": [
       "(29404, 42)"
      ]
     },
     "execution_count": 125,
     "metadata": {},
     "output_type": "execute_result"
    }
   ],
   "source": [
    "tf3.shape"
   ]
  },
  {
   "cell_type": "code",
   "execution_count": 126,
   "metadata": {},
   "outputs": [
    {
     "data": {
      "text/html": [
       "<div>\n",
       "<style>\n",
       "    .dataframe thead tr:only-child th {\n",
       "        text-align: right;\n",
       "    }\n",
       "\n",
       "    .dataframe thead th {\n",
       "        text-align: left;\n",
       "    }\n",
       "\n",
       "    .dataframe tbody tr th {\n",
       "        vertical-align: top;\n",
       "    }\n",
       "</style>\n",
       "<table border=\"1\" class=\"dataframe\">\n",
       "  <thead>\n",
       "    <tr style=\"text-align: right;\">\n",
       "      <th></th>\n",
       "      <th>User_ID</th>\n",
       "      <th>Description</th>\n",
       "      <th>Device_Used</th>\n",
       "      <th>bu_Chrome</th>\n",
       "      <th>bu_Edge</th>\n",
       "      <th>bu_Firefox</th>\n",
       "      <th>bu_IE</th>\n",
       "      <th>Desktop</th>\n",
       "      <th>Mobile</th>\n",
       "      <th>polarity</th>\n",
       "      <th>...</th>\n",
       "      <th>park</th>\n",
       "      <th>place</th>\n",
       "      <th>room</th>\n",
       "      <th>servic</th>\n",
       "      <th>staff</th>\n",
       "      <th>stay</th>\n",
       "      <th>time</th>\n",
       "      <th>us</th>\n",
       "      <th>walk</th>\n",
       "      <th>would</th>\n",
       "    </tr>\n",
       "  </thead>\n",
       "  <tbody>\n",
       "    <tr>\n",
       "      <th>0</th>\n",
       "      <td>id80132</td>\n",
       "      <td>Looking for a motel in close proximity to TV t...</td>\n",
       "      <td>Mobile</td>\n",
       "      <td>0</td>\n",
       "      <td>0</td>\n",
       "      <td>1</td>\n",
       "      <td>0</td>\n",
       "      <td>0</td>\n",
       "      <td>1</td>\n",
       "      <td>-0.053333</td>\n",
       "      <td>...</td>\n",
       "      <td>0.000000</td>\n",
       "      <td>0.970417</td>\n",
       "      <td>0.241436</td>\n",
       "      <td>0.0</td>\n",
       "      <td>0.000000</td>\n",
       "      <td>0.000000</td>\n",
       "      <td>0.0</td>\n",
       "      <td>0.0</td>\n",
       "      <td>0.0</td>\n",
       "      <td>0.000000</td>\n",
       "    </tr>\n",
       "    <tr>\n",
       "      <th>1</th>\n",
       "      <td>id80133</td>\n",
       "      <td>Walking distance to Madison Square Garden and ...</td>\n",
       "      <td>Desktop</td>\n",
       "      <td>0</td>\n",
       "      <td>0</td>\n",
       "      <td>0</td>\n",
       "      <td>1</td>\n",
       "      <td>1</td>\n",
       "      <td>0</td>\n",
       "      <td>0.203974</td>\n",
       "      <td>...</td>\n",
       "      <td>0.000000</td>\n",
       "      <td>0.000000</td>\n",
       "      <td>0.389277</td>\n",
       "      <td>0.0</td>\n",
       "      <td>0.277775</td>\n",
       "      <td>0.000000</td>\n",
       "      <td>0.0</td>\n",
       "      <td>0.0</td>\n",
       "      <td>0.0</td>\n",
       "      <td>0.000000</td>\n",
       "    </tr>\n",
       "    <tr>\n",
       "      <th>2</th>\n",
       "      <td>id80134</td>\n",
       "      <td>Visited Seattle on business. Spent - nights in...</td>\n",
       "      <td>Tablet</td>\n",
       "      <td>0</td>\n",
       "      <td>0</td>\n",
       "      <td>0</td>\n",
       "      <td>1</td>\n",
       "      <td>0</td>\n",
       "      <td>0</td>\n",
       "      <td>0.272917</td>\n",
       "      <td>...</td>\n",
       "      <td>0.289728</td>\n",
       "      <td>0.000000</td>\n",
       "      <td>0.270599</td>\n",
       "      <td>0.0</td>\n",
       "      <td>0.000000</td>\n",
       "      <td>0.000000</td>\n",
       "      <td>0.0</td>\n",
       "      <td>0.0</td>\n",
       "      <td>0.0</td>\n",
       "      <td>0.000000</td>\n",
       "    </tr>\n",
       "    <tr>\n",
       "      <th>3</th>\n",
       "      <td>id80135</td>\n",
       "      <td>This hotel location is excellent and the rooms...</td>\n",
       "      <td>Mobile</td>\n",
       "      <td>0</td>\n",
       "      <td>1</td>\n",
       "      <td>0</td>\n",
       "      <td>0</td>\n",
       "      <td>0</td>\n",
       "      <td>1</td>\n",
       "      <td>0.032092</td>\n",
       "      <td>...</td>\n",
       "      <td>0.000000</td>\n",
       "      <td>0.000000</td>\n",
       "      <td>0.000000</td>\n",
       "      <td>0.0</td>\n",
       "      <td>0.396383</td>\n",
       "      <td>0.158722</td>\n",
       "      <td>0.0</td>\n",
       "      <td>0.0</td>\n",
       "      <td>0.0</td>\n",
       "      <td>0.676903</td>\n",
       "    </tr>\n",
       "    <tr>\n",
       "      <th>4</th>\n",
       "      <td>id80136</td>\n",
       "      <td>This hotel is awesome I love the service Antho...</td>\n",
       "      <td>Mobile</td>\n",
       "      <td>0</td>\n",
       "      <td>0</td>\n",
       "      <td>1</td>\n",
       "      <td>0</td>\n",
       "      <td>0</td>\n",
       "      <td>1</td>\n",
       "      <td>0.850000</td>\n",
       "      <td>...</td>\n",
       "      <td>0.000000</td>\n",
       "      <td>0.000000</td>\n",
       "      <td>0.000000</td>\n",
       "      <td>0.0</td>\n",
       "      <td>0.000000</td>\n",
       "      <td>0.000000</td>\n",
       "      <td>0.0</td>\n",
       "      <td>0.0</td>\n",
       "      <td>0.0</td>\n",
       "      <td>0.000000</td>\n",
       "    </tr>\n",
       "  </tbody>\n",
       "</table>\n",
       "<p>5 rows × 42 columns</p>\n",
       "</div>"
      ],
      "text/plain": [
       "   User_ID                                        Description Device_Used  \\\n",
       "0  id80132  Looking for a motel in close proximity to TV t...      Mobile   \n",
       "1  id80133  Walking distance to Madison Square Garden and ...     Desktop   \n",
       "2  id80134  Visited Seattle on business. Spent - nights in...      Tablet   \n",
       "3  id80135  This hotel location is excellent and the rooms...      Mobile   \n",
       "4  id80136  This hotel is awesome I love the service Antho...      Mobile   \n",
       "\n",
       "   bu_Chrome  bu_Edge  bu_Firefox  bu_IE  Desktop  Mobile  polarity    ...     \\\n",
       "0          0        0           1      0        0       1 -0.053333    ...      \n",
       "1          0        0           0      1        1       0  0.203974    ...      \n",
       "2          0        0           0      1        0       0  0.272917    ...      \n",
       "3          0        1           0      0        0       1  0.032092    ...      \n",
       "4          0        0           1      0        0       1  0.850000    ...      \n",
       "\n",
       "       park     place      room  servic     staff      stay  time   us  walk  \\\n",
       "0  0.000000  0.970417  0.241436     0.0  0.000000  0.000000   0.0  0.0   0.0   \n",
       "1  0.000000  0.000000  0.389277     0.0  0.277775  0.000000   0.0  0.0   0.0   \n",
       "2  0.289728  0.000000  0.270599     0.0  0.000000  0.000000   0.0  0.0   0.0   \n",
       "3  0.000000  0.000000  0.000000     0.0  0.396383  0.158722   0.0  0.0   0.0   \n",
       "4  0.000000  0.000000  0.000000     0.0  0.000000  0.000000   0.0  0.0   0.0   \n",
       "\n",
       "      would  \n",
       "0  0.000000  \n",
       "1  0.000000  \n",
       "2  0.000000  \n",
       "3  0.676903  \n",
       "4  0.000000  \n",
       "\n",
       "[5 rows x 42 columns]"
      ]
     },
     "execution_count": 126,
     "metadata": {},
     "output_type": "execute_result"
    }
   ],
   "source": [
    "tf3.head()"
   ]
  },
  {
   "cell_type": "code",
   "execution_count": 127,
   "metadata": {},
   "outputs": [],
   "source": [
    "test_final=pd.DataFrame()\n",
    "test_final['User_ID']=tf3['User_ID']"
   ]
  },
  {
   "cell_type": "code",
   "execution_count": 128,
   "metadata": {},
   "outputs": [],
   "source": [
    "tf3=tf3.drop(['User_ID','Description','Device_Used'],1)"
   ]
  },
  {
   "cell_type": "code",
   "execution_count": 129,
   "metadata": {},
   "outputs": [],
   "source": [
    "tf3=sc.transform(tf3)"
   ]
  },
  {
   "cell_type": "code",
   "execution_count": 130,
   "metadata": {},
   "outputs": [
    {
     "name": "stdout",
     "output_type": "stream",
     "text": [
      "23904/29404 [=======================>......] - ETA: 0s"
     ]
    }
   ],
   "source": [
    "final=clf.predict_classes(tf3)"
   ]
  },
  {
   "cell_type": "code",
   "execution_count": 131,
   "metadata": {},
   "outputs": [],
   "source": [
    "test_final['rfc']=final"
   ]
  },
  {
   "cell_type": "code",
   "execution_count": 132,
   "metadata": {},
   "outputs": [],
   "source": [
    "test_final.to_csv('data.csv')"
   ]
  },
  {
   "cell_type": "code",
   "execution_count": 7,
   "metadata": {},
   "outputs": [],
   "source": [
    "testq=pd.read_csv('DATA.CSV')"
   ]
  },
  {
   "cell_type": "markdown",
   "metadata": {},
   "source": [
    "# Just adjusting as per the submission format. Not part of code. "
   ]
  },
  {
   "cell_type": "code",
   "execution_count": 4,
   "metadata": {},
   "outputs": [
    {
     "data": {
      "text/html": [
       "<div>\n",
       "<style>\n",
       "    .dataframe thead tr:only-child th {\n",
       "        text-align: right;\n",
       "    }\n",
       "\n",
       "    .dataframe thead th {\n",
       "        text-align: left;\n",
       "    }\n",
       "\n",
       "    .dataframe tbody tr th {\n",
       "        vertical-align: top;\n",
       "    }\n",
       "</style>\n",
       "<table border=\"1\" class=\"dataframe\">\n",
       "  <thead>\n",
       "    <tr style=\"text-align: right;\">\n",
       "      <th></th>\n",
       "      <th>Unnamed: 0</th>\n",
       "      <th>User_ID</th>\n",
       "      <th>rfc</th>\n",
       "    </tr>\n",
       "  </thead>\n",
       "  <tbody>\n",
       "    <tr>\n",
       "      <th>0</th>\n",
       "      <td>0</td>\n",
       "      <td>id80132</td>\n",
       "      <td>1</td>\n",
       "    </tr>\n",
       "    <tr>\n",
       "      <th>1</th>\n",
       "      <td>1</td>\n",
       "      <td>id80133</td>\n",
       "      <td>1</td>\n",
       "    </tr>\n",
       "    <tr>\n",
       "      <th>2</th>\n",
       "      <td>2</td>\n",
       "      <td>id80134</td>\n",
       "      <td>1</td>\n",
       "    </tr>\n",
       "    <tr>\n",
       "      <th>3</th>\n",
       "      <td>3</td>\n",
       "      <td>id80135</td>\n",
       "      <td>0</td>\n",
       "    </tr>\n",
       "    <tr>\n",
       "      <th>4</th>\n",
       "      <td>4</td>\n",
       "      <td>id80136</td>\n",
       "      <td>1</td>\n",
       "    </tr>\n",
       "  </tbody>\n",
       "</table>\n",
       "</div>"
      ],
      "text/plain": [
       "   Unnamed: 0  User_ID  rfc\n",
       "0           0  id80132    1\n",
       "1           1  id80133    1\n",
       "2           2  id80134    1\n",
       "3           3  id80135    0\n",
       "4           4  id80136    1"
      ]
     },
     "execution_count": 4,
     "metadata": {},
     "output_type": "execute_result"
    }
   ],
   "source": [
    "testq.head()"
   ]
  },
  {
   "cell_type": "code",
   "execution_count": 8,
   "metadata": {},
   "outputs": [],
   "source": [
    "testq['Is_Response']= np.where(testq['rfc']==1,'happy','not happy')"
   ]
  },
  {
   "cell_type": "code",
   "execution_count": 9,
   "metadata": {},
   "outputs": [
    {
     "name": "stdout",
     "output_type": "stream",
     "text": [
      "<class 'pandas.core.frame.DataFrame'>\n",
      "RangeIndex: 29404 entries, 0 to 29403\n",
      "Data columns (total 4 columns):\n",
      "Unnamed: 0     29404 non-null int64\n",
      "User_ID        29404 non-null object\n",
      "rfc            29404 non-null int64\n",
      "Is_Response    29404 non-null object\n",
      "dtypes: int64(2), object(2)\n",
      "memory usage: 919.0+ KB\n"
     ]
    }
   ],
   "source": [
    "testq.info()"
   ]
  },
  {
   "cell_type": "code",
   "execution_count": 11,
   "metadata": {},
   "outputs": [],
   "source": [
    "testq=testq.drop(['rfc','Unnamed: 0'],1)"
   ]
  },
  {
   "cell_type": "code",
   "execution_count": 13,
   "metadata": {},
   "outputs": [],
   "source": [
    "testq.to_csv('answer.csv', index=False)"
   ]
  },
  {
   "cell_type": "code",
   "execution_count": null,
   "metadata": {},
   "outputs": [],
   "source": []
  }
 ],
 "metadata": {
  "kernelspec": {
   "display_name": "Python 3",
   "language": "python",
   "name": "python3"
  },
  "language_info": {
   "codemirror_mode": {
    "name": "ipython",
    "version": 3
   },
   "file_extension": ".py",
   "mimetype": "text/x-python",
   "name": "python",
   "nbconvert_exporter": "python",
   "pygments_lexer": "ipython3",
   "version": "3.6.1"
  }
 },
 "nbformat": 4,
 "nbformat_minor": 2
}
